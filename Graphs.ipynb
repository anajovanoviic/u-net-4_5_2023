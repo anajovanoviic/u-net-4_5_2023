{
  "nbformat": 4,
  "nbformat_minor": 0,
  "metadata": {
    "colab": {
      "provenance": [],
      "gpuType": "T4",
      "authorship_tag": "ABX9TyP+1pEamD5Q5Cmnq8aENJ8e",
      "include_colab_link": true
    },
    "kernelspec": {
      "name": "python3",
      "display_name": "Python 3"
    },
    "language_info": {
      "name": "python"
    },
    "gpuClass": "standard"
  },
  "cells": [
    {
      "cell_type": "markdown",
      "metadata": {
        "id": "view-in-github",
        "colab_type": "text"
      },
      "source": [
        "<a href=\"https://colab.research.google.com/github/anajovanoviic/u-net-4_5_2023/blob/main/Graphs.ipynb\" target=\"_parent\"><img src=\"https://colab.research.google.com/assets/colab-badge.svg\" alt=\"Open In Colab\"/></a>"
      ]
    },
    {
      "cell_type": "code",
      "execution_count": 1,
      "metadata": {
        "id": "FQheOHAYgo-Z"
      },
      "outputs": [],
      "source": [
        "from google.colab import drive"
      ]
    },
    {
      "cell_type": "code",
      "source": [
        "drive.mount('/content/drive/')"
      ],
      "metadata": {
        "colab": {
          "base_uri": "https://localhost:8080/"
        },
        "id": "HfFOQG1MhD3H",
        "outputId": "69feddda-0826-4457-be7f-075e64e97964"
      },
      "execution_count": 2,
      "outputs": [
        {
          "output_type": "stream",
          "name": "stdout",
          "text": [
            "Mounted at /content/drive/\n"
          ]
        }
      ]
    },
    {
      "cell_type": "code",
      "source": [
        "%cd '/content/drive/My Drive/'"
      ],
      "metadata": {
        "colab": {
          "base_uri": "https://localhost:8080/"
        },
        "id": "moHaRuKshF43",
        "outputId": "d768b1fa-d345-423f-a9f0-cfc90b45a228"
      },
      "execution_count": 3,
      "outputs": [
        {
          "output_type": "stream",
          "name": "stdout",
          "text": [
            "/content/drive/My Drive\n"
          ]
        }
      ]
    },
    {
      "cell_type": "code",
      "source": [
        "%cd u-net-4_5_2023"
      ],
      "metadata": {
        "colab": {
          "base_uri": "https://localhost:8080/"
        },
        "id": "WNtOEr2chcIL",
        "outputId": "795f6b77-f03e-48af-940b-74a398f3bf64"
      },
      "execution_count": 4,
      "outputs": [
        {
          "output_type": "stream",
          "name": "stdout",
          "text": [
            "/content/drive/My Drive/u-net-4_5_2023\n"
          ]
        }
      ]
    },
    {
      "cell_type": "code",
      "source": [
        "!git status"
      ],
      "metadata": {
        "colab": {
          "base_uri": "https://localhost:8080/"
        },
        "id": "0-l11kLShooB",
        "outputId": "f936f273-b967-4bf2-e7e5-b201793ff853"
      },
      "execution_count": null,
      "outputs": [
        {
          "output_type": "stream",
          "name": "stdout",
          "text": [
            "Refresh index: 100% (7/7), done.\n",
            "On branch main\n",
            "Your branch is up to date with 'origin/main'.\n",
            "\n",
            "Changes not staged for commit:\n",
            "  (use \"git add <file>...\" to update what will be committed)\n",
            "  (use \"git restore <file>...\" to discard changes in working directory)\n",
            "\t\u001b[31mmodified:   main.py\u001b[m\n",
            "\n",
            "Untracked files:\n",
            "  (use \"git add <file>...\" to include in what will be committed)\n",
            "\t\u001b[31m__pycache__/\u001b[m\n",
            "\t\u001b[31mdataset1/\u001b[m\n",
            "\t\u001b[31mdataset2/\u001b[m\n",
            "\t\u001b[31mfiles/\u001b[m\n",
            "\t\u001b[31mlogs/\u001b[m\n",
            "\t\u001b[31munet_model.py\u001b[m\n",
            "\n",
            "\n",
            "It took 3.75 seconds to enumerate untracked files. 'status -uno'\n",
            "may speed it up, but you have to be careful not to forget to add\n",
            "new files yourself (see 'git help status').\n",
            "no changes added to commit (use \"git add\" and/or \"git commit -a\")\n"
          ]
        }
      ]
    },
    {
      "cell_type": "code",
      "source": [
        "!git fetch"
      ],
      "metadata": {
        "colab": {
          "base_uri": "https://localhost:8080/"
        },
        "id": "mGo8nWV9iAa3",
        "outputId": "4cb6eaa5-0be5-4471-eb21-c9139007462b"
      },
      "execution_count": null,
      "outputs": [
        {
          "output_type": "stream",
          "name": "stdout",
          "text": [
            "remote: Enumerating objects: 247, done.\u001b[K\n",
            "remote: Counting objects:   0% (1/247)\u001b[K\rremote: Counting objects:   1% (3/247)\u001b[K\rremote: Counting objects:   2% (5/247)\u001b[K\rremote: Counting objects:   3% (8/247)\u001b[K\rremote: Counting objects:   4% (10/247)\u001b[K\rremote: Counting objects:   5% (13/247)\u001b[K\rremote: Counting objects:   6% (15/247)\u001b[K\rremote: Counting objects:   7% (18/247)\u001b[K\rremote: Counting objects:   8% (20/247)\u001b[K\rremote: Counting objects:   9% (23/247)\u001b[K\rremote: Counting objects:  10% (25/247)\u001b[K\rremote: Counting objects:  11% (28/247)\u001b[K\rremote: Counting objects:  12% (30/247)\u001b[K\rremote: Counting objects:  13% (33/247)\u001b[K\rremote: Counting objects:  14% (35/247)\u001b[K\rremote: Counting objects:  15% (38/247)\u001b[K\rremote: Counting objects:  16% (40/247)\u001b[K\rremote: Counting objects:  17% (42/247)\u001b[K\rremote: Counting objects:  18% (45/247)\u001b[K\rremote: Counting objects:  19% (47/247)\u001b[K\rremote: Counting objects:  20% (50/247)\u001b[K\rremote: Counting objects:  21% (52/247)\u001b[K\rremote: Counting objects:  22% (55/247)\u001b[K\rremote: Counting objects:  23% (57/247)\u001b[K\rremote: Counting objects:  24% (60/247)\u001b[K\rremote: Counting objects:  25% (62/247)\u001b[K\rremote: Counting objects:  26% (65/247)\u001b[K\rremote: Counting objects:  27% (67/247)\u001b[K\rremote: Counting objects:  28% (70/247)\u001b[K\rremote: Counting objects:  29% (72/247)\u001b[K\rremote: Counting objects:  30% (75/247)\u001b[K\rremote: Counting objects:  31% (77/247)\u001b[K\rremote: Counting objects:  32% (80/247)\u001b[K\rremote: Counting objects:  33% (82/247)\u001b[K\rremote: Counting objects:  34% (84/247)\u001b[K\rremote: Counting objects:  35% (87/247)\u001b[K\rremote: Counting objects:  36% (89/247)\u001b[K\rremote: Counting objects:  37% (92/247)\u001b[K\rremote: Counting objects:  38% (94/247)\u001b[K\rremote: Counting objects:  39% (97/247)\u001b[K\rremote: Counting objects:  40% (99/247)\u001b[K\rremote: Counting objects:  41% (102/247)\u001b[K\rremote: Counting objects:  42% (104/247)\u001b[K\rremote: Counting objects:  43% (107/247)\u001b[K\rremote: Counting objects:  44% (109/247)\u001b[K\rremote: Counting objects:  45% (112/247)\u001b[K\rremote: Counting objects:  46% (114/247)\u001b[K\rremote: Counting objects:  47% (117/247)\u001b[K\rremote: Counting objects:  48% (119/247)\u001b[K\rremote: Counting objects:  49% (122/247)\u001b[K\rremote: Counting objects:  50% (124/247)\u001b[K\rremote: Counting objects:  51% (126/247)\u001b[K\rremote: Counting objects:  52% (129/247)\u001b[K\rremote: Counting objects:  53% (131/247)\u001b[K\rremote: Counting objects:  54% (134/247)\u001b[K\rremote: Counting objects:  55% (136/247)\u001b[K\rremote: Counting objects:  56% (139/247)\u001b[K\rremote: Counting objects:  57% (141/247)\u001b[K\rremote: Counting objects:  58% (144/247)\u001b[K\rremote: Counting objects:  59% (146/247)\u001b[K\rremote: Counting objects:  60% (149/247)\u001b[K\rremote: Counting objects:  61% (151/247)\u001b[K\rremote: Counting objects:  62% (154/247)\u001b[K\rremote: Counting objects:  63% (156/247)\u001b[K\rremote: Counting objects:  64% (159/247)\u001b[K\rremote: Counting objects:  65% (161/247)\u001b[K\rremote: Counting objects:  66% (164/247)\u001b[K\rremote: Counting objects:  67% (166/247)\u001b[K\rremote: Counting objects:  68% (168/247)\u001b[K\rremote: Counting objects:  69% (171/247)\u001b[K\rremote: Counting objects:  70% (173/247)\u001b[K\rremote: Counting objects:  71% (176/247)\u001b[K\rremote: Counting objects:  72% (178/247)\u001b[K\rremote: Counting objects:  73% (181/247)\u001b[K\rremote: Counting objects:  74% (183/247)\u001b[K\rremote: Counting objects:  75% (186/247)\u001b[K\rremote: Counting objects:  76% (188/247)\u001b[K\rremote: Counting objects:  77% (191/247)\u001b[K\rremote: Counting objects:  78% (193/247)\u001b[K\rremote: Counting objects:  79% (196/247)\u001b[K\rremote: Counting objects:  80% (198/247)\u001b[K\rremote: Counting objects:  81% (201/247)\u001b[K\rremote: Counting objects:  82% (203/247)\u001b[K\rremote: Counting objects:  83% (206/247)\u001b[K\rremote: Counting objects:  84% (208/247)\u001b[K\rremote: Counting objects:  85% (210/247)\u001b[K\rremote: Counting objects:  86% (213/247)\u001b[K\rremote: Counting objects:  87% (215/247)\u001b[K\rremote: Counting objects:  88% (218/247)\u001b[K\rremote: Counting objects:  89% (220/247)\u001b[K\rremote: Counting objects:  90% (223/247)\u001b[K\rremote: Counting objects:  91% (225/247)\u001b[K\rremote: Counting objects:  92% (228/247)\u001b[K\rremote: Counting objects:  93% (230/247)\u001b[K\rremote: Counting objects:  94% (233/247)\u001b[K\rremote: Counting objects:  95% (235/247)\u001b[K\rremote: Counting objects:  96% (238/247)\u001b[K\rremote: Counting objects:  97% (240/247)\u001b[K\rremote: Counting objects:  98% (243/247)\u001b[K\rremote: Counting objects:  99% (245/247)\u001b[K\rremote: Counting objects: 100% (247/247)\u001b[K\rremote: Counting objects: 100% (247/247), done.\u001b[K\n",
            "remote: Compressing objects: 100% (232/232), done.\u001b[K\n",
            "remote: Total 244 (delta 13), reused 242 (delta 12), pack-reused 0\u001b[K\n",
            "Receiving objects: 100% (244/244), 4.50 MiB | 12.80 MiB/s, done.\n",
            "Resolving deltas: 100% (13/13), completed with 3 local objects.\n",
            "From https://github.com/anajovanoviic/u-net-4_5_2023\n",
            "   09fa807..1c82f84  main       -> origin/main\n"
          ]
        }
      ]
    },
    {
      "cell_type": "code",
      "source": [
        "!git pull"
      ],
      "metadata": {
        "colab": {
          "base_uri": "https://localhost:8080/"
        },
        "id": "GW46Ig25inkT",
        "outputId": "58875a63-4747-4626-f0f7-4bb4bb07499a"
      },
      "execution_count": null,
      "outputs": [
        {
          "output_type": "stream",
          "name": "stdout",
          "text": [
            "Updating 09fa807..1c82f84\n",
            "error: The following untracked working tree files would be overwritten by merge:\n",
            "\t__pycache__/data.cpython-310.pyc\n",
            "\t__pycache__/model.cpython-310.pyc\n",
            "\t__pycache__/two_dataset_comb.cpython-310.pyc\n",
            "\tdataset1/images/14.png\n",
            "\tdataset1/images/194.png\n",
            "\tdataset1/images/389.png\n",
            "\tdataset1/images/390.png\n",
            "\tdataset1/images/519.png\n",
            "\tdataset1/images/609.png\n",
            "\tdataset1/masks/14.png\n",
            "\tdataset1/masks/194.png\n",
            "\tdataset1/masks/389.png\n",
            "\tdataset1/masks/390.png\n",
            "\tdataset1/masks/519.png\n",
            "\tdataset1/masks/609.png\n",
            "\tdataset2/images/cju2z9vlp9j0w0801oag91sy9.jpg\n",
            "\tdataset2/images/cju410dnfl0960755y8lu8d79.jpg\n",
            "\tdataset2/images/cju7da88w2eod0755wejzynvt.jpg\n",
            "\tdataset2/images/cju7fbndk2sl608015ravktum.jpg\n",
            "\tdataset2/images/cju88vx2uoocy075531lc63n3.jpg\n",
            "\tdataset2/images/cju8alhigqn2h0801zksudldd.jpg\n",
            "\tdataset2/masks/cju2z9vlp9j0w0801oag91sy9.jpg\n",
            "\tdataset2/masks/cju410dnfl0960755y8lu8d79.jpg\n",
            "\tdataset2/masks/cju7da88w2eod0755wejzynvt.jpg\n",
            "\tdataset2/masks/cju7fbndk2sl608015ravktum.jpg\n",
            "\tdataset2/masks/cju88vx2uoocy075531lc63n3.jpg\n",
            "\tdataset2/masks/cju8alhigqn2h0801zksudldd.jpg\n",
            "\tfiles/data.csv\n",
            "\tfiles/model.h5\n",
            "Please move or remove them before you merge.\n",
            "Aborting\n"
          ]
        }
      ]
    },
    {
      "cell_type": "code",
      "source": [
        "!git add *"
      ],
      "metadata": {
        "id": "0Xr_TwO3jBVs"
      },
      "execution_count": null,
      "outputs": []
    },
    {
      "cell_type": "code",
      "source": [
        "!git stash"
      ],
      "metadata": {
        "colab": {
          "base_uri": "https://localhost:8080/"
        },
        "id": "yO35r2eaj4Ko",
        "outputId": "58026276-ef7f-42ca-c01b-aae4fbcaeaca"
      },
      "execution_count": null,
      "outputs": [
        {
          "output_type": "stream",
          "name": "stdout",
          "text": [
            "Saved working directory and index state WIP on main: 09fa807 inital commit\n"
          ]
        }
      ]
    },
    {
      "cell_type": "code",
      "source": [
        "!git pull"
      ],
      "metadata": {
        "colab": {
          "base_uri": "https://localhost:8080/"
        },
        "id": "66264m3xj_z0",
        "outputId": "865c4176-c58d-4be0-ef37-bbb63c0f4f63"
      },
      "execution_count": null,
      "outputs": [
        {
          "output_type": "stream",
          "name": "stdout",
          "text": [
            "Already up to date.\n"
          ]
        }
      ]
    },
    {
      "cell_type": "code",
      "source": [
        "!chmod +x .git/hooks/post-merge"
      ],
      "metadata": {
        "id": "vHA53OANkaKm"
      },
      "execution_count": null,
      "outputs": []
    },
    {
      "cell_type": "code",
      "source": [
        "!pip install imshowtools"
      ],
      "metadata": {
        "colab": {
          "base_uri": "https://localhost:8080/"
        },
        "id": "HA1OFqjEmMHg",
        "outputId": "680964f9-3f37-4240-cc1f-b99aed76770c"
      },
      "execution_count": null,
      "outputs": [
        {
          "output_type": "stream",
          "name": "stdout",
          "text": [
            "Looking in indexes: https://pypi.org/simple, https://us-python.pkg.dev/colab-wheels/public/simple/\n",
            "Collecting imshowtools\n",
            "  Downloading imshowtools-0.6.5-py3-none-any.whl (7.4 kB)\n",
            "Requirement already satisfied: matplotlib in /usr/local/lib/python3.10/dist-packages (from imshowtools) (3.7.1)\n",
            "Requirement already satisfied: numpy in /usr/local/lib/python3.10/dist-packages (from imshowtools) (1.22.4)\n",
            "Requirement already satisfied: contourpy>=1.0.1 in /usr/local/lib/python3.10/dist-packages (from matplotlib->imshowtools) (1.0.7)\n",
            "Requirement already satisfied: cycler>=0.10 in /usr/local/lib/python3.10/dist-packages (from matplotlib->imshowtools) (0.11.0)\n",
            "Requirement already satisfied: fonttools>=4.22.0 in /usr/local/lib/python3.10/dist-packages (from matplotlib->imshowtools) (4.39.3)\n",
            "Requirement already satisfied: kiwisolver>=1.0.1 in /usr/local/lib/python3.10/dist-packages (from matplotlib->imshowtools) (1.4.4)\n",
            "Requirement already satisfied: packaging>=20.0 in /usr/local/lib/python3.10/dist-packages (from matplotlib->imshowtools) (23.1)\n",
            "Requirement already satisfied: pillow>=6.2.0 in /usr/local/lib/python3.10/dist-packages (from matplotlib->imshowtools) (8.4.0)\n",
            "Requirement already satisfied: pyparsing>=2.3.1 in /usr/local/lib/python3.10/dist-packages (from matplotlib->imshowtools) (3.0.9)\n",
            "Requirement already satisfied: python-dateutil>=2.7 in /usr/local/lib/python3.10/dist-packages (from matplotlib->imshowtools) (2.8.2)\n",
            "Requirement already satisfied: six>=1.5 in /usr/local/lib/python3.10/dist-packages (from python-dateutil>=2.7->matplotlib->imshowtools) (1.16.0)\n",
            "Installing collected packages: imshowtools\n",
            "Successfully installed imshowtools-0.6.5\n"
          ]
        }
      ]
    },
    {
      "cell_type": "code",
      "source": [
        "%matplotlib inline"
      ],
      "metadata": {
        "id": "0v7Pbw3GpS3s"
      },
      "execution_count": 23,
      "outputs": []
    },
    {
      "cell_type": "code",
      "source": [
        "from google.colab import output\n"
      ],
      "metadata": {
        "id": "g5uWkvRMrBdG"
      },
      "execution_count": 30,
      "outputs": []
    },
    {
      "cell_type": "code",
      "source": [
        "output.enable_custom_widget_manager()"
      ],
      "metadata": {
        "id": "oMzw4aGttBrr"
      },
      "execution_count": 31,
      "outputs": []
    },
    {
      "cell_type": "code",
      "source": [
        "!python main.py"
      ],
      "metadata": {
        "colab": {
          "base_uri": "https://localhost:8080/"
        },
        "id": "byjAOxN_l3qY",
        "outputId": "54ed4ed3-d7e8-4e1d-f39f-5d7cab8f9e94"
      },
      "execution_count": 50,
      "outputs": [
        {
          "output_type": "stream",
          "name": "stdout",
          "text": [
            "2023-05-17 22:36:42.231241: I tensorflow/core/platform/cpu_feature_guard.cc:182] This TensorFlow binary is optimized to use available CPU instructions in performance-critical operations.\n",
            "To enable the following instructions: AVX2 FMA, in other operations, rebuild TensorFlow with the appropriate compiler flags.\n",
            "2023-05-17 22:36:43.122077: W tensorflow/compiler/tf2tensorrt/utils/py_utils.cc:38] TF-TRT Warning: Could not find TensorRT\n",
            "Images: 100 - Masks: 100\n",
            "dataset1/images/1.png dataset1/masks/1.png\n",
            "dataset1/images/108.png dataset1/masks/108.png\n",
            "dataset1/images/137.png dataset1/masks/137.png\n",
            "dataset1/images/14.png dataset1/masks/14.png\n",
            "dataset1/images/141.png dataset1/masks/141.png\n",
            "dataset1/images/151.png dataset1/masks/151.png\n",
            "dataset1/images/176.png dataset1/masks/176.png\n",
            "dataset1/images/177.png dataset1/masks/177.png\n",
            "dataset1/images/18.png dataset1/masks/18.png\n",
            "dataset1/images/185.png dataset1/masks/185.png\n",
            "Train: 80 - 80\n",
            "Valid: 10 - 10\n",
            "Test : 10 - 10\n",
            "['dataset1/images/332.png', 'dataset2/images/cju7da88w2eod0755wejzynvt.jpg', 'dataset2/images/cju30df2j09dd08351ayx2t6w.jpg', 'dataset2/images/cju2z9vlp9j0w0801oag91sy9.jpg', 'dataset1/images/266.png', 'dataset2/images/cju300m3s04fg0988uzupuf7z.jpg', 'dataset1/images/229.png', 'dataset2/images/cju2okvco06xc0799kxe5n1qh.jpg', 'dataset2/images/cju1dfeupuzlw0835gnxip369.jpg', 'dataset1/images/18.png']\n",
            "2023-05-17 22:36:44.924054: I tensorflow/compiler/xla/stream_executor/cuda/cuda_gpu_executor.cc:996] successful NUMA node read from SysFS had negative value (-1), but there must be at least one NUMA node, so returning NUMA node zero. See more at https://github.com/torvalds/linux/blob/v6.0/Documentation/ABI/testing/sysfs-bus-pci#L344-L355\n",
            "2023-05-17 22:36:44.975593: I tensorflow/compiler/xla/stream_executor/cuda/cuda_gpu_executor.cc:996] successful NUMA node read from SysFS had negative value (-1), but there must be at least one NUMA node, so returning NUMA node zero. See more at https://github.com/torvalds/linux/blob/v6.0/Documentation/ABI/testing/sysfs-bus-pci#L344-L355\n",
            "2023-05-17 22:36:44.975951: I tensorflow/compiler/xla/stream_executor/cuda/cuda_gpu_executor.cc:996] successful NUMA node read from SysFS had negative value (-1), but there must be at least one NUMA node, so returning NUMA node zero. See more at https://github.com/torvalds/linux/blob/v6.0/Documentation/ABI/testing/sysfs-bus-pci#L344-L355\n",
            "2023-05-17 22:36:44.977650: I tensorflow/compiler/xla/stream_executor/cuda/cuda_gpu_executor.cc:996] successful NUMA node read from SysFS had negative value (-1), but there must be at least one NUMA node, so returning NUMA node zero. See more at https://github.com/torvalds/linux/blob/v6.0/Documentation/ABI/testing/sysfs-bus-pci#L344-L355\n",
            "2023-05-17 22:36:44.977959: I tensorflow/compiler/xla/stream_executor/cuda/cuda_gpu_executor.cc:996] successful NUMA node read from SysFS had negative value (-1), but there must be at least one NUMA node, so returning NUMA node zero. See more at https://github.com/torvalds/linux/blob/v6.0/Documentation/ABI/testing/sysfs-bus-pci#L344-L355\n",
            "2023-05-17 22:36:44.978243: I tensorflow/compiler/xla/stream_executor/cuda/cuda_gpu_executor.cc:996] successful NUMA node read from SysFS had negative value (-1), but there must be at least one NUMA node, so returning NUMA node zero. See more at https://github.com/torvalds/linux/blob/v6.0/Documentation/ABI/testing/sysfs-bus-pci#L344-L355\n",
            "2023-05-17 22:36:46.311202: I tensorflow/compiler/xla/stream_executor/cuda/cuda_gpu_executor.cc:996] successful NUMA node read from SysFS had negative value (-1), but there must be at least one NUMA node, so returning NUMA node zero. See more at https://github.com/torvalds/linux/blob/v6.0/Documentation/ABI/testing/sysfs-bus-pci#L344-L355\n",
            "2023-05-17 22:36:46.311613: I tensorflow/compiler/xla/stream_executor/cuda/cuda_gpu_executor.cc:996] successful NUMA node read from SysFS had negative value (-1), but there must be at least one NUMA node, so returning NUMA node zero. See more at https://github.com/torvalds/linux/blob/v6.0/Documentation/ABI/testing/sysfs-bus-pci#L344-L355\n",
            "2023-05-17 22:36:46.311854: I tensorflow/compiler/xla/stream_executor/cuda/cuda_gpu_executor.cc:996] successful NUMA node read from SysFS had negative value (-1), but there must be at least one NUMA node, so returning NUMA node zero. See more at https://github.com/torvalds/linux/blob/v6.0/Documentation/ABI/testing/sysfs-bus-pci#L344-L355\n",
            "2023-05-17 22:36:46.312022: W tensorflow/core/common_runtime/gpu/gpu_bfc_allocator.cc:47] Overriding orig_value setting because the TF_FORCE_GPU_ALLOW_GROWTH environment variable is set. Original config value was 0.\n",
            "2023-05-17 22:36:46.312067: I tensorflow/core/common_runtime/gpu/gpu_device.cc:1635] Created device /job:localhost/replica:0/task:0/device:GPU:0 with 13678 MB memory:  -> device: 0, name: Tesla T4, pci bus id: 0000:00:04.0, compute capability: 7.5\n",
            "2023-05-17 22:36:47.142850: I tensorflow/core/common_runtime/executor.cc:1197] [/device:CPU:0] (DEBUG INFO) Executor start aborting (this does not indicate an error and you can ignore this message): INVALID_ARGUMENT: You must feed a value for placeholder tensor 'Placeholder/_1' with dtype string and shape [80]\n",
            "\t [[{{node Placeholder/_1}}]]\n",
            "Epoch 1/5\n",
            "2023-05-17 22:36:52.923160: I tensorflow/compiler/xla/stream_executor/cuda/cuda_dnn.cc:424] Loaded cuDNN version 8700\n",
            "2023-05-17 22:36:55.077842: I tensorflow/compiler/xla/service/service.cc:169] XLA service 0x7f56bd916c40 initialized for platform CUDA (this does not guarantee that XLA will be used). Devices:\n",
            "2023-05-17 22:36:55.077890: I tensorflow/compiler/xla/service/service.cc:177]   StreamExecutor device (0): Tesla T4, Compute Capability 7.5\n",
            "2023-05-17 22:36:55.082518: I tensorflow/compiler/mlir/tensorflow/utils/dump_mlir_util.cc:269] disabling MLIR crash reproducer, set env var `MLIR_CRASH_REPRODUCER_DIRECTORY` to enable.\n",
            "2023-05-17 22:36:55.217815: I ./tensorflow/compiler/jit/device_compiler.h:180] Compiled cluster using XLA!  This line is logged at most once for the lifetime of the process.\n",
            "10/10 [==============================] - ETA: 0s - loss: 0.6710 - acc: 0.6712 - recall: 0.4716 - precision: 0.1823 - iou: 0.11272023-05-17 22:37:06.305499: I tensorflow/core/common_runtime/executor.cc:1197] [/device:CPU:0] (DEBUG INFO) Executor start aborting (this does not indicate an error and you can ignore this message): INVALID_ARGUMENT: You must feed a value for placeholder tensor 'Placeholder/_1' with dtype string and shape [10]\n",
            "\t [[{{node Placeholder/_1}}]]\n",
            "10/10 [==============================] - 21s 307ms/step - loss: 0.6710 - acc: 0.6712 - recall: 0.4716 - precision: 0.1823 - iou: 0.1127 - val_loss: 0.7091 - val_acc: 0.3553 - val_recall: 0.9153 - val_precision: 0.1080 - val_iou: 0.0770 - lr: 1.0000e-04\n",
            "Epoch 2/5\n",
            "10/10 [==============================] - 1s 141ms/step - loss: 0.5908 - acc: 0.7620 - recall: 0.5037 - precision: 0.2626 - iou: 0.1295 - val_loss: 0.7010 - val_acc: 0.5045 - val_recall: 0.8793 - val_precision: 0.1325 - val_iou: 0.0789 - lr: 1.0000e-04\n",
            "Epoch 3/5\n",
            "10/10 [==============================] - 1s 141ms/step - loss: 0.5425 - acc: 0.7939 - recall: 0.4961 - precision: 0.3015 - iou: 0.1357 - val_loss: 0.6776 - val_acc: 0.6505 - val_recall: 0.7634 - val_precision: 0.1633 - val_iou: 0.0795 - lr: 1.0000e-04\n",
            "Epoch 4/5\n",
            "10/10 [==============================] - 1s 158ms/step - loss: 0.5027 - acc: 0.8199 - recall: 0.4748 - precision: 0.3408 - iou: 0.1395 - val_loss: 0.6504 - val_acc: 0.7473 - val_recall: 0.6143 - val_precision: 0.1903 - val_iou: 0.0790 - lr: 1.0000e-04\n",
            "Epoch 5/5\n",
            "10/10 [==============================] - 2s 221ms/step - loss: 0.4697 - acc: 0.8402 - recall: 0.4796 - precision: 0.3871 - iou: 0.1454 - val_loss: 0.6253 - val_acc: 0.8001 - val_recall: 0.4710 - val_precision: 0.2033 - val_iou: 0.0784 - lr: 1.0000e-04\n",
            "Figure(500x300)\n"
          ]
        }
      ]
    },
    {
      "cell_type": "code",
      "source": [
        "!pip install matplotlib"
      ],
      "metadata": {
        "colab": {
          "base_uri": "https://localhost:8080/"
        },
        "id": "LapqCzG8xG6K",
        "outputId": "bf4924ff-1c3b-4e44-9194-fbe1e15aac4a"
      },
      "execution_count": 40,
      "outputs": [
        {
          "output_type": "stream",
          "name": "stdout",
          "text": [
            "Looking in indexes: https://pypi.org/simple, https://us-python.pkg.dev/colab-wheels/public/simple/\n",
            "Requirement already satisfied: matplotlib in /usr/local/lib/python3.10/dist-packages (3.7.1)\n",
            "Requirement already satisfied: contourpy>=1.0.1 in /usr/local/lib/python3.10/dist-packages (from matplotlib) (1.0.7)\n",
            "Requirement already satisfied: cycler>=0.10 in /usr/local/lib/python3.10/dist-packages (from matplotlib) (0.11.0)\n",
            "Requirement already satisfied: fonttools>=4.22.0 in /usr/local/lib/python3.10/dist-packages (from matplotlib) (4.39.3)\n",
            "Requirement already satisfied: kiwisolver>=1.0.1 in /usr/local/lib/python3.10/dist-packages (from matplotlib) (1.4.4)\n",
            "Requirement already satisfied: numpy>=1.20 in /usr/local/lib/python3.10/dist-packages (from matplotlib) (1.22.4)\n",
            "Requirement already satisfied: packaging>=20.0 in /usr/local/lib/python3.10/dist-packages (from matplotlib) (23.1)\n",
            "Requirement already satisfied: pillow>=6.2.0 in /usr/local/lib/python3.10/dist-packages (from matplotlib) (8.4.0)\n",
            "Requirement already satisfied: pyparsing>=2.3.1 in /usr/local/lib/python3.10/dist-packages (from matplotlib) (3.0.9)\n",
            "Requirement already satisfied: python-dateutil>=2.7 in /usr/local/lib/python3.10/dist-packages (from matplotlib) (2.8.2)\n",
            "Requirement already satisfied: six>=1.5 in /usr/local/lib/python3.10/dist-packages (from python-dateutil>=2.7->matplotlib) (1.16.0)\n"
          ]
        }
      ]
    },
    {
      "cell_type": "code",
      "source": [
        "!python test.py"
      ],
      "metadata": {
        "id": "Kw31_dy9y8SK"
      },
      "execution_count": 6,
      "outputs": []
    },
    {
      "cell_type": "code",
      "source": [
        "from IPython.display import Image\n",
        "\n",
        "# Display the saved image file\n",
        "Image('output.png')"
      ],
      "metadata": {
        "colab": {
          "base_uri": "https://localhost:8080/",
          "height": 497
        },
        "id": "uDnO9eM7vtil",
        "outputId": "6f49ade6-3c81-474f-ac53-539026487477"
      },
      "execution_count": 43,
      "outputs": [
        {
          "output_type": "execute_result",
          "data": {
            "image/png": "[encoded data removed]",
            "text/plain": [
              "<IPython.core.display.Image object>"
            ]
          },
          "metadata": {},
          "execution_count": 43
        }
      ]
    },
    {
      "cell_type": "code",
      "source": [
        "#import matplotlib.pyplot as plt\n",
        "import numpy as np\n",
        "xpts = np.array([0,4])\n",
        "ypts = np.array([0,100])\n",
        "\n",
        "plt.plot(xpts, ypts)\n",
        "plt.show()"
      ],
      "metadata": {
        "colab": {
          "base_uri": "https://localhost:8080/",
          "height": 430
        },
        "id": "dW5uI7C72WDR",
        "outputId": "39bff20d-ea9c-4c79-a24f-3e2da302f2c0"
      },
      "execution_count": 49,
      "outputs": [
        {
          "output_type": "display_data",
          "data": {
            "text/plain": [
              "<Figure size 640x480 with 1 Axes>"
            ],
            "image/png": "[encoded data removed]"
          },
          "metadata": {}
        }
      ]
    }
  ]
}